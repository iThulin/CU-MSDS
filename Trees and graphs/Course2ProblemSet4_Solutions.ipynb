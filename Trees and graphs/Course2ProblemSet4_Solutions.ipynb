{
 "cells": [
  {
   "cell_type": "markdown",
   "metadata": {
    "deletable": false,
    "editable": false,
    "nbgrader": {
     "cell_type": "markdown",
     "checksum": "3891e5039812204f212ddec97eb53006",
     "grade": false,
     "grade_id": "cell-f151ebfa307a1cd9",
     "locked": true,
     "schema_version": 3,
     "solution": false,
     "task": false
    }
   },
   "source": [
    "# Solving Image Maze (With Solution)\n",
    "\n",
    "Given a maze as an image with a start and end point, we would like to write code to solve the maze. \n",
    "\n",
    "An image is a 2D matrix of pixels of a particular size that depends on its resolution. Each \n",
    "pixel has a color which is given by its Red, Green and Blue (RGB) values.\n",
    " \n",
    "Given an image, we will view it as a graph where each pixel of the image is a vertex \n",
    "and edges connect a pixel to its neighbor. The weight of an edge should be very small if\n",
    "the pixel colors are similar (i.e, the differences between r, g and b values are close to zero)\n",
    "and correspondingly large as the pixel colors diverge.\n",
    "  \n",
    "Next, given a source pixel $(i_0, j_0)$ and destination pixel, \n",
    "$(i_1, j_1)$, we wish find the shortest weight path from source to destination.\n",
    "\n",
    "You should use the Dijkstra's algorithm modified in two ways:\n",
    "   - It can exit as soon as the destination is reached.\n",
    "   - A 1000 x 1000 pixel image gives rise to a graph with million vertices. Storing such a graph as an adjacency list is going to be very memory intensive. Instead, your goal will be to generate the vertices and edges *on-the-fly*.\n",
    "   \n",
    "We will use opencv library, a popular computer vision library to load, and manipulate images of mazes.\n",
    "\n"
   ]
  },
  {
   "cell_type": "markdown",
   "metadata": {
    "deletable": false,
    "editable": false,
    "nbgrader": {
     "cell_type": "markdown",
     "checksum": "3273070f3e32ee55ee4573e4db87122f",
     "grade": false,
     "grade_id": "cell-54a8af4c3c306d73",
     "locked": true,
     "schema_version": 3,
     "solution": false,
     "task": false
    }
   },
   "source": [
    "## Manipulating Images\n",
    "\n",
    "You can directly manipulate images in python in many ways. The `opencv` library is considered a standard for numerous\n",
    "image manipulation tasks.\n",
    "\n",
    "Here we load an image `maze.png` and you can see it nicely plotted with coordinates. We then show you two pixels\n",
    "shown in red and blue. The goal here is to detect a path from one of the colored circle to the other, in the maze without crossing\n",
    "the black pixels."
   ]
  },
  {
   "cell_type": "code",
   "execution_count": 5,
   "metadata": {
    "deletable": false,
    "editable": false,
    "nbgrader": {
     "cell_type": "code",
     "checksum": "c9ef9391a29dc38136d602532c1a16eb",
     "grade": false,
     "grade_id": "cell-6070310452a91263",
     "locked": true,
     "schema_version": 3,
     "solution": false,
     "task": false
    }
   },
   "outputs": [
    {
     "ename": "TypeError",
     "evalue": "Image data of dtype object cannot be converted to float",
     "output_type": "error",
     "traceback": [
      "\u001b[1;31m---------------------------------------------------------------------------\u001b[0m",
      "\u001b[1;31mTypeError\u001b[0m                                 Traceback (most recent call last)",
      "\u001b[1;32me:\\Python\\CU-MSDS\\CU-MSDS\\Trees and graphs\\Course2ProblemSet4_Solutions.ipynb Cell 3\u001b[0m in \u001b[0;36m<cell line: 8>\u001b[1;34m()\u001b[0m\n\u001b[0;32m      <a href='vscode-notebook-cell:/e%3A/Python/CU-MSDS/CU-MSDS/Trees%20and%20graphs/Course2ProblemSet4_Solutions.ipynb#W2sZmlsZQ%3D%3D?line=5'>6</a>\u001b[0m cv2\u001b[39m.\u001b[39mcircle(img,(\u001b[39m5\u001b[39m,\u001b[39m220\u001b[39m), \u001b[39m3\u001b[39m, (\u001b[39m255\u001b[39m,\u001b[39m0\u001b[39m,\u001b[39m0\u001b[39m), \u001b[39m-\u001b[39m\u001b[39m1\u001b[39m) \u001b[39m# add a circle centered at (5, 220) radius 3, color red (RGB: 255,0,0)\u001b[39;00m\n\u001b[0;32m      <a href='vscode-notebook-cell:/e%3A/Python/CU-MSDS/CU-MSDS/Trees%20and%20graphs/Course2ProblemSet4_Solutions.ipynb#W2sZmlsZQ%3D%3D?line=6'>7</a>\u001b[0m cv2\u001b[39m.\u001b[39mcircle(img, (\u001b[39m5\u001b[39m,\u001b[39m5\u001b[39m), \u001b[39m3\u001b[39m, (\u001b[39m0\u001b[39m,\u001b[39m0\u001b[39m,\u001b[39m255\u001b[39m), \u001b[39m-\u001b[39m\u001b[39m1\u001b[39m) \u001b[39m# add a circle centered at (5,5) radius 3, color red (RGB: 0,0,255)\u001b[39;00m\n\u001b[1;32m----> <a href='vscode-notebook-cell:/e%3A/Python/CU-MSDS/CU-MSDS/Trees%20and%20graphs/Course2ProblemSet4_Solutions.ipynb#W2sZmlsZQ%3D%3D?line=7'>8</a>\u001b[0m plt\u001b[39m.\u001b[39;49mimshow(img) \u001b[39m# show the image on the screen \u001b[39;00m\n\u001b[0;32m      <a href='vscode-notebook-cell:/e%3A/Python/CU-MSDS/CU-MSDS/Trees%20and%20graphs/Course2ProblemSet4_Solutions.ipynb#W2sZmlsZQ%3D%3D?line=8'>9</a>\u001b[0m plt\u001b[39m.\u001b[39mtitle(\u001b[39m'\u001b[39m\u001b[39mAmazing\u001b[39m\u001b[39m'\u001b[39m)\n\u001b[0;32m     <a href='vscode-notebook-cell:/e%3A/Python/CU-MSDS/CU-MSDS/Trees%20and%20graphs/Course2ProblemSet4_Solutions.ipynb#W2sZmlsZQ%3D%3D?line=9'>10</a>\u001b[0m plt\u001b[39m.\u001b[39mshow()\n",
      "File \u001b[1;32mc:\\Users\\user\\AppData\\Local\\Programs\\Python\\Python310\\lib\\site-packages\\matplotlib\\_api\\deprecation.py:456\u001b[0m, in \u001b[0;36mmake_keyword_only.<locals>.wrapper\u001b[1;34m(*args, **kwargs)\u001b[0m\n\u001b[0;32m    450\u001b[0m \u001b[39mif\u001b[39;00m \u001b[39mlen\u001b[39m(args) \u001b[39m>\u001b[39m name_idx:\n\u001b[0;32m    451\u001b[0m     warn_deprecated(\n\u001b[0;32m    452\u001b[0m         since, message\u001b[39m=\u001b[39m\u001b[39m\"\u001b[39m\u001b[39mPassing the \u001b[39m\u001b[39m%(name)s\u001b[39;00m\u001b[39m \u001b[39m\u001b[39m%(obj_type)s\u001b[39;00m\u001b[39m \u001b[39m\u001b[39m\"\u001b[39m\n\u001b[0;32m    453\u001b[0m         \u001b[39m\"\u001b[39m\u001b[39mpositionally is deprecated since Matplotlib \u001b[39m\u001b[39m%(since)s\u001b[39;00m\u001b[39m; the \u001b[39m\u001b[39m\"\u001b[39m\n\u001b[0;32m    454\u001b[0m         \u001b[39m\"\u001b[39m\u001b[39mparameter will become keyword-only \u001b[39m\u001b[39m%(removal)s\u001b[39;00m\u001b[39m.\u001b[39m\u001b[39m\"\u001b[39m,\n\u001b[0;32m    455\u001b[0m         name\u001b[39m=\u001b[39mname, obj_type\u001b[39m=\u001b[39m\u001b[39mf\u001b[39m\u001b[39m\"\u001b[39m\u001b[39mparameter of \u001b[39m\u001b[39m{\u001b[39;00mfunc\u001b[39m.\u001b[39m\u001b[39m__name__\u001b[39m\u001b[39m}\u001b[39;00m\u001b[39m()\u001b[39m\u001b[39m\"\u001b[39m)\n\u001b[1;32m--> 456\u001b[0m \u001b[39mreturn\u001b[39;00m func(\u001b[39m*\u001b[39margs, \u001b[39m*\u001b[39m\u001b[39m*\u001b[39mkwargs)\n",
      "File \u001b[1;32mc:\\Users\\user\\AppData\\Local\\Programs\\Python\\Python310\\lib\\site-packages\\matplotlib\\pyplot.py:2640\u001b[0m, in \u001b[0;36mimshow\u001b[1;34m(X, cmap, norm, aspect, interpolation, alpha, vmin, vmax, origin, extent, interpolation_stage, filternorm, filterrad, resample, url, data, **kwargs)\u001b[0m\n\u001b[0;32m   2634\u001b[0m \u001b[39m@_copy_docstring_and_deprecators\u001b[39m(Axes\u001b[39m.\u001b[39mimshow)\n\u001b[0;32m   2635\u001b[0m \u001b[39mdef\u001b[39;00m \u001b[39mimshow\u001b[39m(\n\u001b[0;32m   2636\u001b[0m         X, cmap\u001b[39m=\u001b[39m\u001b[39mNone\u001b[39;00m, norm\u001b[39m=\u001b[39m\u001b[39mNone\u001b[39;00m, aspect\u001b[39m=\u001b[39m\u001b[39mNone\u001b[39;00m, interpolation\u001b[39m=\u001b[39m\u001b[39mNone\u001b[39;00m,\n\u001b[0;32m   2637\u001b[0m         alpha\u001b[39m=\u001b[39m\u001b[39mNone\u001b[39;00m, vmin\u001b[39m=\u001b[39m\u001b[39mNone\u001b[39;00m, vmax\u001b[39m=\u001b[39m\u001b[39mNone\u001b[39;00m, origin\u001b[39m=\u001b[39m\u001b[39mNone\u001b[39;00m, extent\u001b[39m=\u001b[39m\u001b[39mNone\u001b[39;00m, \u001b[39m*\u001b[39m,\n\u001b[0;32m   2638\u001b[0m         interpolation_stage\u001b[39m=\u001b[39m\u001b[39mNone\u001b[39;00m, filternorm\u001b[39m=\u001b[39m\u001b[39mTrue\u001b[39;00m, filterrad\u001b[39m=\u001b[39m\u001b[39m4.0\u001b[39m,\n\u001b[0;32m   2639\u001b[0m         resample\u001b[39m=\u001b[39m\u001b[39mNone\u001b[39;00m, url\u001b[39m=\u001b[39m\u001b[39mNone\u001b[39;00m, data\u001b[39m=\u001b[39m\u001b[39mNone\u001b[39;00m, \u001b[39m*\u001b[39m\u001b[39m*\u001b[39mkwargs):\n\u001b[1;32m-> 2640\u001b[0m     __ret \u001b[39m=\u001b[39m gca()\u001b[39m.\u001b[39mimshow(\n\u001b[0;32m   2641\u001b[0m         X, cmap\u001b[39m=\u001b[39mcmap, norm\u001b[39m=\u001b[39mnorm, aspect\u001b[39m=\u001b[39maspect,\n\u001b[0;32m   2642\u001b[0m         interpolation\u001b[39m=\u001b[39minterpolation, alpha\u001b[39m=\u001b[39malpha, vmin\u001b[39m=\u001b[39mvmin,\n\u001b[0;32m   2643\u001b[0m         vmax\u001b[39m=\u001b[39mvmax, origin\u001b[39m=\u001b[39morigin, extent\u001b[39m=\u001b[39mextent,\n\u001b[0;32m   2644\u001b[0m         interpolation_stage\u001b[39m=\u001b[39minterpolation_stage,\n\u001b[0;32m   2645\u001b[0m         filternorm\u001b[39m=\u001b[39mfilternorm, filterrad\u001b[39m=\u001b[39mfilterrad, resample\u001b[39m=\u001b[39mresample,\n\u001b[0;32m   2646\u001b[0m         url\u001b[39m=\u001b[39murl, \u001b[39m*\u001b[39m\u001b[39m*\u001b[39m({\u001b[39m\"\u001b[39m\u001b[39mdata\u001b[39m\u001b[39m\"\u001b[39m: data} \u001b[39mif\u001b[39;00m data \u001b[39mis\u001b[39;00m \u001b[39mnot\u001b[39;00m \u001b[39mNone\u001b[39;00m \u001b[39melse\u001b[39;00m {}),\n\u001b[0;32m   2647\u001b[0m         \u001b[39m*\u001b[39m\u001b[39m*\u001b[39mkwargs)\n\u001b[0;32m   2648\u001b[0m     sci(__ret)\n\u001b[0;32m   2649\u001b[0m     \u001b[39mreturn\u001b[39;00m __ret\n",
      "File \u001b[1;32mc:\\Users\\user\\AppData\\Local\\Programs\\Python\\Python310\\lib\\site-packages\\matplotlib\\_api\\deprecation.py:456\u001b[0m, in \u001b[0;36mmake_keyword_only.<locals>.wrapper\u001b[1;34m(*args, **kwargs)\u001b[0m\n\u001b[0;32m    450\u001b[0m \u001b[39mif\u001b[39;00m \u001b[39mlen\u001b[39m(args) \u001b[39m>\u001b[39m name_idx:\n\u001b[0;32m    451\u001b[0m     warn_deprecated(\n\u001b[0;32m    452\u001b[0m         since, message\u001b[39m=\u001b[39m\u001b[39m\"\u001b[39m\u001b[39mPassing the \u001b[39m\u001b[39m%(name)s\u001b[39;00m\u001b[39m \u001b[39m\u001b[39m%(obj_type)s\u001b[39;00m\u001b[39m \u001b[39m\u001b[39m\"\u001b[39m\n\u001b[0;32m    453\u001b[0m         \u001b[39m\"\u001b[39m\u001b[39mpositionally is deprecated since Matplotlib \u001b[39m\u001b[39m%(since)s\u001b[39;00m\u001b[39m; the \u001b[39m\u001b[39m\"\u001b[39m\n\u001b[0;32m    454\u001b[0m         \u001b[39m\"\u001b[39m\u001b[39mparameter will become keyword-only \u001b[39m\u001b[39m%(removal)s\u001b[39;00m\u001b[39m.\u001b[39m\u001b[39m\"\u001b[39m,\n\u001b[0;32m    455\u001b[0m         name\u001b[39m=\u001b[39mname, obj_type\u001b[39m=\u001b[39m\u001b[39mf\u001b[39m\u001b[39m\"\u001b[39m\u001b[39mparameter of \u001b[39m\u001b[39m{\u001b[39;00mfunc\u001b[39m.\u001b[39m\u001b[39m__name__\u001b[39m\u001b[39m}\u001b[39;00m\u001b[39m()\u001b[39m\u001b[39m\"\u001b[39m)\n\u001b[1;32m--> 456\u001b[0m \u001b[39mreturn\u001b[39;00m func(\u001b[39m*\u001b[39margs, \u001b[39m*\u001b[39m\u001b[39m*\u001b[39mkwargs)\n",
      "File \u001b[1;32mc:\\Users\\user\\AppData\\Local\\Programs\\Python\\Python310\\lib\\site-packages\\matplotlib\\__init__.py:1412\u001b[0m, in \u001b[0;36m_preprocess_data.<locals>.inner\u001b[1;34m(ax, data, *args, **kwargs)\u001b[0m\n\u001b[0;32m   1409\u001b[0m \u001b[39m@functools\u001b[39m\u001b[39m.\u001b[39mwraps(func)\n\u001b[0;32m   1410\u001b[0m \u001b[39mdef\u001b[39;00m \u001b[39minner\u001b[39m(ax, \u001b[39m*\u001b[39margs, data\u001b[39m=\u001b[39m\u001b[39mNone\u001b[39;00m, \u001b[39m*\u001b[39m\u001b[39m*\u001b[39mkwargs):\n\u001b[0;32m   1411\u001b[0m     \u001b[39mif\u001b[39;00m data \u001b[39mis\u001b[39;00m \u001b[39mNone\u001b[39;00m:\n\u001b[1;32m-> 1412\u001b[0m         \u001b[39mreturn\u001b[39;00m func(ax, \u001b[39m*\u001b[39m\u001b[39mmap\u001b[39m(sanitize_sequence, args), \u001b[39m*\u001b[39m\u001b[39m*\u001b[39mkwargs)\n\u001b[0;32m   1414\u001b[0m     bound \u001b[39m=\u001b[39m new_sig\u001b[39m.\u001b[39mbind(ax, \u001b[39m*\u001b[39margs, \u001b[39m*\u001b[39m\u001b[39m*\u001b[39mkwargs)\n\u001b[0;32m   1415\u001b[0m     auto_label \u001b[39m=\u001b[39m (bound\u001b[39m.\u001b[39marguments\u001b[39m.\u001b[39mget(label_namer)\n\u001b[0;32m   1416\u001b[0m                   \u001b[39mor\u001b[39;00m bound\u001b[39m.\u001b[39mkwargs\u001b[39m.\u001b[39mget(label_namer))\n",
      "File \u001b[1;32mc:\\Users\\user\\AppData\\Local\\Programs\\Python\\Python310\\lib\\site-packages\\matplotlib\\axes\\_axes.py:5442\u001b[0m, in \u001b[0;36mAxes.imshow\u001b[1;34m(self, X, cmap, norm, aspect, interpolation, alpha, vmin, vmax, origin, extent, interpolation_stage, filternorm, filterrad, resample, url, **kwargs)\u001b[0m\n\u001b[0;32m   5435\u001b[0m \u001b[39mself\u001b[39m\u001b[39m.\u001b[39mset_aspect(aspect)\n\u001b[0;32m   5436\u001b[0m im \u001b[39m=\u001b[39m mimage\u001b[39m.\u001b[39mAxesImage(\u001b[39mself\u001b[39m, cmap, norm, interpolation,\n\u001b[0;32m   5437\u001b[0m                       origin, extent, filternorm\u001b[39m=\u001b[39mfilternorm,\n\u001b[0;32m   5438\u001b[0m                       filterrad\u001b[39m=\u001b[39mfilterrad, resample\u001b[39m=\u001b[39mresample,\n\u001b[0;32m   5439\u001b[0m                       interpolation_stage\u001b[39m=\u001b[39minterpolation_stage,\n\u001b[0;32m   5440\u001b[0m                       \u001b[39m*\u001b[39m\u001b[39m*\u001b[39mkwargs)\n\u001b[1;32m-> 5442\u001b[0m im\u001b[39m.\u001b[39;49mset_data(X)\n\u001b[0;32m   5443\u001b[0m im\u001b[39m.\u001b[39mset_alpha(alpha)\n\u001b[0;32m   5444\u001b[0m \u001b[39mif\u001b[39;00m im\u001b[39m.\u001b[39mget_clip_path() \u001b[39mis\u001b[39;00m \u001b[39mNone\u001b[39;00m:\n\u001b[0;32m   5445\u001b[0m     \u001b[39m# image does not already have clipping set, clip to axes patch\u001b[39;00m\n",
      "File \u001b[1;32mc:\\Users\\user\\AppData\\Local\\Programs\\Python\\Python310\\lib\\site-packages\\matplotlib\\image.py:706\u001b[0m, in \u001b[0;36m_ImageBase.set_data\u001b[1;34m(self, A)\u001b[0m\n\u001b[0;32m    702\u001b[0m \u001b[39mself\u001b[39m\u001b[39m.\u001b[39m_A \u001b[39m=\u001b[39m cbook\u001b[39m.\u001b[39msafe_masked_invalid(A, copy\u001b[39m=\u001b[39m\u001b[39mTrue\u001b[39;00m)\n\u001b[0;32m    704\u001b[0m \u001b[39mif\u001b[39;00m (\u001b[39mself\u001b[39m\u001b[39m.\u001b[39m_A\u001b[39m.\u001b[39mdtype \u001b[39m!=\u001b[39m np\u001b[39m.\u001b[39muint8 \u001b[39mand\u001b[39;00m\n\u001b[0;32m    705\u001b[0m         \u001b[39mnot\u001b[39;00m np\u001b[39m.\u001b[39mcan_cast(\u001b[39mself\u001b[39m\u001b[39m.\u001b[39m_A\u001b[39m.\u001b[39mdtype, \u001b[39mfloat\u001b[39m, \u001b[39m\"\u001b[39m\u001b[39msame_kind\u001b[39m\u001b[39m\"\u001b[39m)):\n\u001b[1;32m--> 706\u001b[0m     \u001b[39mraise\u001b[39;00m \u001b[39mTypeError\u001b[39;00m(\u001b[39m\"\u001b[39m\u001b[39mImage data of dtype \u001b[39m\u001b[39m{}\u001b[39;00m\u001b[39m cannot be converted to \u001b[39m\u001b[39m\"\u001b[39m\n\u001b[0;32m    707\u001b[0m                     \u001b[39m\"\u001b[39m\u001b[39mfloat\u001b[39m\u001b[39m\"\u001b[39m\u001b[39m.\u001b[39mformat(\u001b[39mself\u001b[39m\u001b[39m.\u001b[39m_A\u001b[39m.\u001b[39mdtype))\n\u001b[0;32m    709\u001b[0m \u001b[39mif\u001b[39;00m \u001b[39mself\u001b[39m\u001b[39m.\u001b[39m_A\u001b[39m.\u001b[39mndim \u001b[39m==\u001b[39m \u001b[39m3\u001b[39m \u001b[39mand\u001b[39;00m \u001b[39mself\u001b[39m\u001b[39m.\u001b[39m_A\u001b[39m.\u001b[39mshape[\u001b[39m-\u001b[39m\u001b[39m1\u001b[39m] \u001b[39m==\u001b[39m \u001b[39m1\u001b[39m:\n\u001b[0;32m    710\u001b[0m     \u001b[39m# If just one dimension assume scalar and apply colormap\u001b[39;00m\n\u001b[0;32m    711\u001b[0m     \u001b[39mself\u001b[39m\u001b[39m.\u001b[39m_A \u001b[39m=\u001b[39m \u001b[39mself\u001b[39m\u001b[39m.\u001b[39m_A[:, :, \u001b[39m0\u001b[39m]\n",
      "\u001b[1;31mTypeError\u001b[0m: Image data of dtype object cannot be converted to float"
     ]
    },
    {
     "data": {
      "image/png": "[encoded data removed]",
      "text/plain": [
       "<Figure size 432x288 with 1 Axes>"
      ]
     },
     "metadata": {
      "needs_background": "light"
     },
     "output_type": "display_data"
    }
   ],
   "source": [
    "from matplotlib import pyplot as plt\n",
    "import cv2\n",
    "# You can read png, jpg and other file types \n",
    "img = cv2.imread('maze.png') # read an image from a file using opencv (cv2) library\n",
    "# you can annotate images \n",
    "cv2.circle(img,(5,220), 3, (255,0,0), -1) # add a circle centered at (5, 220) radius 3, color red (RGB: 255,0,0)\n",
    "cv2.circle(img, (5,5), 3, (0,0,255), -1) # add a circle centered at (5,5) radius 3, color red (RGB: 0,0,255)\n",
    "plt.imshow(img) # show the image on the screen \n",
    "plt.title('Amazing')\n",
    "plt.show()\n",
    "img = cv2.imread('maze-solution.png') # read an image from a file using opencv (cv2) library\n",
    "# you can annotate images \n",
    "cv2.circle(img,(5,220), 3, (255,0,0), -1) # add a circle centered at (5, 220) radius 3, color red (RGB: 255,0,0)\n",
    "cv2.circle(img, (5,5), 3, (0,0,255), -1) # add a circle centered at (5,5) radius 3, color red (RGB: 0,0,255)\n",
    "plt.imshow(img) # show the image on the screen \n",
    "plt.title('Amazing Solution ')\n",
    "plt.show()\n"
   ]
  },
  {
   "cell_type": "markdown",
   "metadata": {
    "deletable": false,
    "editable": false,
    "nbgrader": {
     "cell_type": "markdown",
     "checksum": "7bcdd6e34acb691a53638472afe9afb9",
     "grade": false,
     "grade_id": "cell-bad7c0322e0189f8",
     "locked": true,
     "schema_version": 3,
     "solution": false,
     "task": false
    }
   },
   "source": [
    "Given an image it is simple to read the color at a pixel. Let us read the color at pixel (645, 67)"
   ]
  },
  {
   "cell_type": "code",
   "execution_count": null,
   "metadata": {
    "deletable": false,
    "editable": false,
    "nbgrader": {
     "cell_type": "code",
     "checksum": "ca63ee9e097ba167b411be388ceb03f2",
     "grade": false,
     "grade_id": "cell-da5b6c077e329a84",
     "locked": true,
     "schema_version": 3,
     "solution": false,
     "task": false
    }
   },
   "outputs": [],
   "source": [
    "print('Image size (height, width, num layers) is', img.shape)\n",
    "px = img[145, 67] # img[y,x] is the color of the pixel of x,y\n",
    "print(px) \n",
    "cv2.circle(img, (80, 18), 3, (198,31,4),-1) # Draw a colored circle centered at (80, 18)\n",
    "px1 = img[18, 80] # It is important to note that rows of the image are y values and columns are x values.\n",
    "print(px1)\n",
    "px2 = img[80, 18] # This is important to note that indexing the img data structure takes y, x values.\n",
    "# Most opencv functions will require (x,y) coordinates for pixel as is natural.\n",
    "print(px2)"
   ]
  },
  {
   "cell_type": "markdown",
   "metadata": {
    "deletable": false,
    "editable": false,
    "nbgrader": {
     "cell_type": "markdown",
     "checksum": "96e563ea5cf5f32e14bd32afab31c140",
     "grade": false,
     "grade_id": "cell-f39f15221b65cbbf",
     "locked": true,
     "schema_version": 3,
     "solution": false,
     "task": false
    }
   },
   "source": [
    "The pixel color is expressed in RGB format. R is the red value from 0 -> 255, G is the green value 0 -> 255 and B is the blue value from 0 -> 255 \n",
    "\n",
    "We will now define a edge weight function for an edge in the image"
   ]
  },
  {
   "cell_type": "code",
   "execution_count": null,
   "metadata": {
    "deletable": false,
    "editable": false,
    "nbgrader": {
     "cell_type": "code",
     "checksum": "7d87b6e983eef75cb0e64b0fa55e2e33",
     "grade": false,
     "grade_id": "cell-5cd6f306e6610a35",
     "locked": true,
     "schema_version": 3,
     "solution": false,
     "task": false
    }
   },
   "outputs": [],
   "source": [
    "import math \n",
    "def fixPixelValues(px):\n",
    "    # convert the RGB values into floating point to avoid an overflow that will give me wrong answers\n",
    "    return [ float(px[0]), float(px[1]), float(px[2]) ]\n",
    "\n",
    "\n",
    "    \n",
    "# This is a useful function that given a list of (x,y) values, \n",
    "# draw a series of red lines between each coordinate and next to \n",
    "# show the path in the image\n",
    "def drawPath(img, path, pThick=2):\n",
    "    v = path[0]\n",
    "    x0, y0 = v[0], v[1]\n",
    "    for v in path:\n",
    "        x, y = v[0], v[1]\n",
    "        cv2.line(img,(x,y), (x0,y0), (255,0,0),pThick)\n",
    "        x0, y0 = x,y\n",
    "        "
   ]
  },
  {
   "cell_type": "code",
   "execution_count": null,
   "metadata": {
    "deletable": false,
    "editable": false,
    "nbgrader": {
     "cell_type": "code",
     "checksum": "5d250f38df8ab706550f98c34bc16580",
     "grade": false,
     "grade_id": "cell-2109196a7933a78d",
     "locked": true,
     "schema_version": 3,
     "solution": false,
     "task": false
    }
   },
   "outputs": [],
   "source": [
    "# Example\n",
    "img = cv2.imread('maze.png') # read an image from a file using opencv (cv2) library\n",
    "drawPath(img, [ (15, 15), (150, 15), (150, 85), (75, 85), (75, 195)])\n",
    "plt.imshow(img) # show the image on the screen \n",
    "plt.title('Illustration of drawPath')\n",
    "plt.show()"
   ]
  },
  {
   "cell_type": "markdown",
   "metadata": {
    "deletable": false,
    "editable": false,
    "nbgrader": {
     "cell_type": "markdown",
     "checksum": "936ffe59d35f16c57d7392700a2e7816",
     "grade": false,
     "grade_id": "cell-524c9a63c67d4b2a",
     "locked": true,
     "schema_version": 3,
     "solution": false,
     "task": false
    }
   },
   "source": [
    "## Step 1: Compute Single Source Shortest Path For an Image\n",
    "\n",
    "Given an image, compute the  shortest path between source and destination pixels by modifying Dijkstra's algorithm. __Your challenge  is to implement it without needing to create the entire the adjacency list for the graph\n",
    "in the first place. However, for simplicity you can try a first cut implementation of a generic Dijkstra algorithm over\n",
    "graphs represented as adjacency matrix or list.__ "
   ]
  },
  {
   "cell_type": "code",
   "execution_count": 3,
   "metadata": {
    "deletable": false,
    "editable": false,
    "nbgrader": {
     "cell_type": "code",
     "checksum": "0fab4a331085499e71ca6645a311dafe",
     "grade": false,
     "grade_id": "cell-c44bc7ea3ae735e1",
     "locked": true,
     "schema_version": 3,
     "solution": false,
     "task": false
    }
   },
   "outputs": [],
   "source": [
    "class Vertex: # This is the outline for a vertex data structure\n",
    "    \n",
    "    def __init__ (self,  i, j):\n",
    "        self.x = i # The x coordinate\n",
    "        self.y = j  # The y coordinate\n",
    "        self.d = float('inf') # the shortest path estimate\n",
    "        self.processed = False # Has this vertex's final shortest path distance been computed\n",
    "        # this is important for Dijksatra's algorithm\n",
    "        # We will track where the vertex is in the priority queue.\n",
    "        self.idx_in_priority_queue = -1 # The index of this vertex in the queue\n",
    "        self.pi = None # the parent vertex in the shortest path tree.\n",
    "        \n",
    "    def reset(self):\n",
    "        self.d = float('inf')\n",
    "        self.processed = False # Has this vertex's final shortest path distance been computed\n",
    "        # this is important for Dijksatra's algorithm\n",
    "        # We will track where the vertex is in the priority queue.\n",
    "        self.idx_in_priority_queue = -1 # The index of this vertex in the queue\n",
    "        self.pi = None # the parent vertex in the shortest path tree.\n",
    "    \n",
    "\n",
    "# However, if you want Dijkstra efficiently, we will need a priority queue\n",
    "# We will provide you with a heap data structure from course 1.\n",
    "class PriorityQueue:\n",
    "    # Constructor:  Implement a empty heap data structure\n",
    "    def __init__(self):\n",
    "        self.q = [None] # pad it with one element\n",
    "    \n",
    "    # Function: insert\n",
    "    # Insert a vertex v of type Vertex into the queue.\n",
    "    # Remember to set the field `idx_in_priority_queue` and\n",
    "    # keep updating it.\n",
    "    def insert(self, v):\n",
    "        n = len(self.q)\n",
    "        self.q.append(v)\n",
    "        v.idx_in_priority_queue = n\n",
    "        self.bubble_up(n)\n",
    "        # self.check_invariant()\n",
    "        \n",
    "    # Function: swap two elements in the priority queue.\n",
    "    # Remember to swap the vertices at positions i and j\n",
    "    # But also remember to update the positions of the vertices in the\n",
    "    # priority queue.\n",
    "    # You can use this to implement bubble_up and bubble_down\n",
    "    def swap(self, i, j):\n",
    "        tmp = self.q[i]\n",
    "        self.q[i] = self.q[j]\n",
    "        self.q[i].idx_in_priority_queue = i\n",
    "        self.q[j] = tmp\n",
    "        self.q[j].idx_in_priority_queue = j\n",
    "        \n",
    "    # Function: bubble_up\n",
    "    # bubble up an element j\n",
    "    # until min heap property is restored.\n",
    "    def bubble_up(self, j):\n",
    "        assert j >= 1\n",
    "        assert j < len(self.q)\n",
    "        if j == 1:\n",
    "            return\n",
    "        val = self.q[j].d\n",
    "        parent_idx = j // 2\n",
    "        parent_val = self.q[parent_idx].d\n",
    "        if val < parent_val:\n",
    "            self.swap(j, parent_idx)\n",
    "            self.bubble_up(parent_idx)\n",
    "        return\n",
    "    \n",
    "    # Function: bubble_down\n",
    "    # Bubble down an element j until\n",
    "    # min heap property is restored.\n",
    "    def bubble_down(self, j):\n",
    "        n = len(self.q)\n",
    "        left_child_idx = 2 * j\n",
    "        right_child_idx = 2 * j + 1\n",
    "        if left_child_idx >= n:\n",
    "            return\n",
    "        if right_child_idx >= n:\n",
    "            child_idx = left_child_idx\n",
    "            child_d = self.q[left_child_idx].d\n",
    "        else:\n",
    "            (child_d, child_idx) = min ( (self.q[left_child_idx].d, left_child_idx), \n",
    "                                         (self.q[right_child_idx].d, right_child_idx)\n",
    "                                       )\n",
    "        if self.q[j].d > child_d:\n",
    "            self.swap(j, child_idx)\n",
    "            self.bubble_down(child_idx)\n",
    "        return \n",
    "        \n",
    "    # Function: get_and_delete_min\n",
    "    # Find the minimum weight vertex and delete it from the heap.\n",
    "    # return the deleted vertex back\n",
    "    def get_and_delete_min(self):\n",
    "        n = len(self.q)\n",
    "        assert n > 1\n",
    "        v = self.q[1]\n",
    "        if n > 2: \n",
    "            self.q[1] = self.q[n-1]\n",
    "            self.q[n-1].idx_in_priority_queue = 1\n",
    "            del self.q[n-1]\n",
    "            self.bubble_down(1)\n",
    "        #self.check_invariant()\n",
    "        return v\n",
    "    \n",
    "    # Is the heap empty?\n",
    "    def is_empty(self):\n",
    "        return len(self.q) == 1\n",
    "    \n",
    "    # This is a useful function since in Dijkstra\n",
    "    # the weight of a vertex updates on the fly.\n",
    "    # We will need to call this to update the vertex weight.\n",
    "    def update_vertex_weight(self, v):\n",
    "        j = v.idx_in_priority_queue\n",
    "        n = len(self.q)\n",
    "        assert j >= 0 and j < n\n",
    "        self.bubble_down(j)\n",
    "        self.bubble_up(j)\n",
    "        # self.check_invariant()\n",
    "        \n",
    "   "
   ]
  },
  {
   "cell_type": "code",
   "execution_count": 4,
   "metadata": {
    "deletable": false,
    "editable": false,
    "nbgrader": {
     "cell_type": "code",
     "checksum": "b65d8cb6b0abf9f646fc9af6da632723",
     "grade": false,
     "grade_id": "cell-aa78a535324536e6",
     "locked": true,
     "schema_version": 3,
     "solution": false,
     "task": false
    }
   },
   "outputs": [],
   "source": [
    "class DirectedGraphFromImage:\n",
    "    def __init__(self, img):\n",
    "        self.img = img\n",
    "        self.coords2vertex = {} # construct a dictionary that maps coordinates [(i,j)] to corresponding vertices in graph\n",
    "    \n",
    "        \n",
    "    def get_vertex_from_coords(self, i, j):\n",
    "        if (i,j) in self.coords2vertex: # is pixel (i,j) already there? \n",
    "            return self.coords2vertex[(i,j)] # if yes, just return the vertex corresponding\n",
    "        v = Vertex(i, j)\n",
    "        self.coords2vertex[(i,j)] = v\n",
    "        return v\n",
    "    \n",
    "    ## Given (x,y) coordinates of two neighboring pixels, calculate the edge weight.\n",
    "    # We take the squared euclidean distance between the pixel values and add 0.1\n",
    "    def getEdgeWeight(self, u, v):\n",
    "        img = self.img\n",
    "        # get edge weight for edge between u, v\n",
    "        i0,j0 = u.x, u.y\n",
    "        i1,j1 = v.x, v.y\n",
    "        height, width, _ = img.shape\n",
    "        # First make sure that the edge is legit\n",
    "        # Edges can only go from each pixel to neighboring pixel\n",
    "        assert i0 >= 0 and j0 >= 0 and i0 < width and j0 < height # pixel position valid?\n",
    "        assert i1 >= 0 and j1 >= 0 and i1 < width and j1 < height # pixel position valid?\n",
    "        assert -1 <= i0 - i1 <= 1 # edge between node and neighbor?\n",
    "        assert -1 <= j0 - j1 <= 1\n",
    "        px1 = fixPixelValues(img[j0,i0])\n",
    "        px2 = fixPixelValues(img[j1,i1])\n",
    "        return 0.1 + (px1[0] - px2[0])**2 + (px1[1] - px2[1])**2 + (px1[2]- px2[2])**2\n",
    "\n",
    "    # Function: get_list_of_neighbors\n",
    "    # Given a vertex in the graph, get its list of neighbors\n",
    "    #  I.e, for given vertex `vert` return a list [(v1, w1), (v2, w2),..,(vk,wk)]\n",
    "    #  Such that vert has an edge to v1 with weight w1, edge to v2 with weight w2 and ... \n",
    "    #   edge to vk with weight wk\n",
    "    # Note that rather than build an adjacency list up front, we simply call this function\n",
    "    # to get the neighbors of a vertex.\n",
    "    def get_list_of_neighbors(self, vert):\n",
    "        img = self.img\n",
    "        i = vert.x\n",
    "        j = vert.y\n",
    "        height, width, _ = img.shape\n",
    "        lst = []\n",
    "        if i > 0:\n",
    "             # Get the adjacent vertex directly to the WEST\n",
    "            # What is the weight of the edge from pixel (i,j) to (i-1,j)\n",
    "            v0 = self.get_vertex_from_coords(i-1, j)\n",
    "            w0 = self.getEdgeWeight(vert, v0)\n",
    "            # Append the adjacent vertex and its weight.\n",
    "            lst.append((v0, w0))\n",
    "        if j > 0:\n",
    "            # Get the adjacent vertex directly to the SOUTH\n",
    "            v1 = self.get_vertex_from_coords(i, j-1)\n",
    "            w1 = self.getEdgeWeight(vert, v1)\n",
    "            # Append the adjacent vertex and its weight.\n",
    "            lst.append((v1, w1))    \n",
    "        if i < width-1:\n",
    "            # EAST\n",
    "            v2 = self.get_vertex_from_coords(i+1, j)\n",
    "            w2 = self.getEdgeWeight( vert, v2)\n",
    "            lst.append((v2, w2))\n",
    "        if j < height-1:\n",
    "            # NORTH\n",
    "            v3 = self.get_vertex_from_coords(i, j+1)\n",
    "            w3 = self.getEdgeWeight(vert, v3)\n",
    "            lst.append((v3, w3))\n",
    "        return lst\n"
   ]
  },
  {
   "cell_type": "markdown",
   "metadata": {
    "deletable": false,
    "editable": false,
    "nbgrader": {
     "cell_type": "markdown",
     "checksum": "3468eed9dfa5fcd73aba96a23da85069",
     "grade": false,
     "grade_id": "cell-9bb0e22f88851b3f",
     "locked": true,
     "schema_version": 3,
     "solution": false,
     "task": false
    }
   },
   "source": [
    "Using Dijkstra's algorithm and the classes provided above, implement the function\n",
    "`computeShortestPath`. Its inputs are\n",
    "  - `graph` : an instance of DirectedGraphFromImage class\n",
    "  - `source_coordinates`: The (i,j) coordinates of the starting point.\n",
    "  - `dest_coordinates`: The (i,j) coordinates of the destination. \n",
    "  \n",
    "It must return a tuple `(path, distance)` wherein \n",
    "  - `path` is a list of pixel coordinates `[(i0,j0),...., (ik,jk)]` wherein `(i0,j0)` corresponds to the `soure_coordinates` and `(ik,jk))` corresponds to the destination.\n",
    "  - `distance` is the total weight of the shortest path.\n",
    "  \n",
    " ## Pseudocode \n",
    " Here is an outline of Dijkstra's algorithm with modifications that may be useful.\n",
    " \n",
    " ~~~\n",
    " 1. Initialize an empty priority queue `q` (use `PriorityQueue` class)\n",
    " 2. Get the source vertex (`source`) using the function `graph.get_vertex_from_coords(i,j)`.\n",
    " 3. Set the `source.d` field to 0 to indicate that distance of source from source is 0.\n",
    " 4. Add the source vertex to the priority queue (use `insert` method).\n",
    " 5. While the priority queue is not empty.\n",
    "    5.1 Get the vertex with minimum value of d and delete it (use `get_and_delete_min` function). Let's call this vertex `u`.\n",
    "    5.2 Set the processed field of `u` to True.\n",
    "    5.3 If `u` has the same coordinates as destination (use `u.x` and `u.y`) then \n",
    "        5.3.1 shortest path distance is `u.d` and break from the loop.\n",
    "    5.4 For each outgoing edge from `u` to `v` with weight `w`\n",
    "        5.4.1 If `v` is not already processed and `v.d > u.d + w` then \n",
    "              5.4.1.1 update `v.d` to `u.d + w`. Set `v.pi` to `u`.\n",
    "              5.4.1.2 If `v` is already not in the priority queue, insert it into the queue\n",
    "              5.4.1.3 Else, use the `update_vertex_weight` method of priority queue with `v` as the argument to make sure that `v` is moved to the appropriate place in the priority queue.\n",
    " 6. To get the path, start from the destination vertex and keep taking the parent pointer until we reach the source. Store the sequence of vertices in a path.\n",
    " 7. Return the (path, shortest path distance)\n",
    " ~~~\n",
    " "
   ]
  },
  {
   "cell_type": "code",
   "execution_count": 16,
   "metadata": {
    "deletable": false,
    "nbgrader": {
     "cell_type": "code",
     "checksum": "498d8e1a4b0b27673a3f1a54f8cbf3b3",
     "grade": false,
     "grade_id": "cell-8383effcf12262f2",
     "locked": false,
     "schema_version": 3,
     "solution": true,
     "task": false
    }
   },
   "outputs": [],
   "source": [
    "# Function: computeShortestPath\n",
    "# Let us implement Dijkstra's algorithm\n",
    "# graph - instance of the DirectedGraphFromImage class\n",
    "# source - a vertex that is the source (i,j) pixel coordinates\n",
    "# dest - a vertex that is the destination (i,j) pixel coordinates\n",
    "def computeShortestPath( graph, source_coordinates, dest_coordinates):\n",
    "    # your code here\n",
    "\n",
    "    # Initialize priority queue, source vertex, source.d, then add to priority queue\n",
    "\n",
    "    q = PriorityQueue()\n",
    "    source = graph.get_vertex_from_coords(source_coordinates[0], source_coordinates[1])\n",
    "    destination = graph.get_vertex_from_coords(dest_coordinates[0], dest_coordinates[1])\n",
    "    source.d = 0\n",
    "    q.insert(source)\n",
    "    shortest_path_distance = int\n",
    "\n",
    "    print(f\"x: {source.x}, y: {source.y}, d: {source.d}, parent: {source.pi}\")\n",
    "\n",
    "    # while the priority queue is not empty\n",
    "    while not q.is_empty():\n",
    "        u = q.get_and_delete_min()\n",
    "        u.processed = True\n",
    "\n",
    "        # if 'u' is the destination\n",
    "        if u.x == destination.x and u.y == destination.y:\n",
    "            shortest_path_distance = u.d\n",
    "            break\n",
    "\n",
    "        # for each outgoing edge from 'u' to 'v'  with weight'w'\n",
    "        for k in range(len(graph.get_list_of_neighbors(u))):\n",
    "            # initialize v\n",
    "            v = graph.get_list_of_neighbors(u)[k][0]\n",
    "            # initialize w\n",
    "            w = graph.get_list_of_neighbors(u)[k][1]\n",
    "            # 5.4.1\n",
    "            if v.processed == False and v.d > (u.d + w):\n",
    "                # 5.4.1.1\n",
    "                v.d = u.d + w\n",
    "                v.pi = u\n",
    "                # 5.4.1.2\n",
    "                # v.idx_in_priority_queue should equal -1 if the vertex is has not been inserted into the queue\n",
    "                if v.idx_in_priority_queue == -1:\n",
    "                    q.insert(v)\n",
    "                # 5.4.1.3\n",
    "                else:\n",
    "                    q.update_vertex_weight(v)\n",
    "\n",
    "    # 6 start from the destination vertex and keep taking the parent pointer until we reach the source, storing the vertices in a path\n",
    "    # initialize path as a list with the first entry being the x and y coordinates of the destination vertex\n",
    "    path = [(destination.x, destination.y)]\n",
    "    # set first node to be found as the destination\n",
    "    next_node = destination\n",
    "\n",
    "    while next_node != source:\n",
    "        # follow the insert the current node, then follow the parents\n",
    "        path.insert(0, (next_node.pi.x, next_node.pi.y))\n",
    "        next_node = next_node.pi\n",
    "\n",
    "    # return the path and shortest path distance\n",
    "    return  (path, shortest_path_distance)"
   ]
  },
  {
   "cell_type": "code",
   "execution_count": 17,
   "metadata": {},
   "outputs": [
    {
     "name": "stdout",
     "output_type": "stream",
     "text": [
      "X: 0, Y: 0, d: 0, parent: None\n"
     ]
    },
    {
     "ename": "TypeError",
     "evalue": "cannot unpack non-iterable NoneType object",
     "output_type": "error",
     "traceback": [
      "\u001b[1;31m---------------------------------------------------------------------------\u001b[0m",
      "\u001b[1;31mTypeError\u001b[0m                                 Traceback (most recent call last)",
      "\u001b[1;32me:\\Python\\CU-MSDS\\CU-MSDS\\Trees and graphs\\Course2ProblemSet4_Solutions.ipynb Cell 14\u001b[0m in \u001b[0;36m<cell line: 44>\u001b[1;34m()\u001b[0m\n\u001b[0;32m     <a href='vscode-notebook-cell:/e%3A/Python/CU-MSDS/CU-MSDS/Trees%20and%20graphs/Course2ProblemSet4_Solutions.ipynb#X33sZmlsZQ%3D%3D?line=39'>40</a>\u001b[0m connect_nodes((\u001b[39m1\u001b[39m,\u001b[39m2\u001b[39m), (\u001b[39m2\u001b[39m,\u001b[39m2\u001b[39m), \u001b[39m0.25\u001b[39m)\n\u001b[0;32m     <a href='vscode-notebook-cell:/e%3A/Python/CU-MSDS/CU-MSDS/Trees%20and%20graphs/Course2ProblemSet4_Solutions.ipynb#X33sZmlsZQ%3D%3D?line=41'>42</a>\u001b[0m graph \u001b[39m=\u001b[39m DummyGraphClass(adj_list, verts)\n\u001b[1;32m---> <a href='vscode-notebook-cell:/e%3A/Python/CU-MSDS/CU-MSDS/Trees%20and%20graphs/Course2ProblemSet4_Solutions.ipynb#X33sZmlsZQ%3D%3D?line=43'>44</a>\u001b[0m path, dist \u001b[39m=\u001b[39m computeShortestPath(graph, (\u001b[39m0\u001b[39m,\u001b[39m0\u001b[39m), (\u001b[39m2\u001b[39m,\u001b[39m2\u001b[39m))\n\u001b[0;32m     <a href='vscode-notebook-cell:/e%3A/Python/CU-MSDS/CU-MSDS/Trees%20and%20graphs/Course2ProblemSet4_Solutions.ipynb#X33sZmlsZQ%3D%3D?line=44'>45</a>\u001b[0m \u001b[39mprint\u001b[39m(path)\n",
      "\u001b[1;31mTypeError\u001b[0m: cannot unpack non-iterable NoneType object"
     ]
    }
   ],
   "source": [
    "# Testing Block\n",
    "\n",
    "class DummyGraphClass:\n",
    "    def __init__(self, adj_list, verts):\n",
    "        self.verts=verts\n",
    "        self.adj_list = adj_list\n",
    "        \n",
    "                \n",
    "    def get_vertex_from_coords(self, i, j):\n",
    "        assert (i,j) in self.verts\n",
    "        return self.verts[(i,j)]\n",
    "    \n",
    "    def get_list_of_neighbors(self, vert):\n",
    "        coords = (vert.x, vert.y)\n",
    "        if coords in self.adj_list:\n",
    "            return self.adj_list[(vert.x, vert.y)]\n",
    "        else:\n",
    "            return []\n",
    "    \n",
    "# Test 1\n",
    "verts = {(i,j): Vertex(i,j) for i in range(3) for j in range(3)}\n",
    "adj_list= {}\n",
    "def connect_nodes(src, dest, weight):\n",
    "    v1 = src\n",
    "    v2 = verts[dest]\n",
    "    if v1 in adj_list:\n",
    "        adj_list[v1].append((v2, weight))\n",
    "    else:\n",
    "        adj_list[v1] = [(v2, weight)]\n",
    "# Let's build a graph\n",
    "connect_nodes((0,0),(0,1),1.0)\n",
    "connect_nodes((0,0),(1,0),0.5)\n",
    "connect_nodes((1,0),(0,1), 0.5)\n",
    "connect_nodes((0,1),(0,0), 0.5)\n",
    "connect_nodes((1,0),(1,1), 0.5)\n",
    "connect_nodes((1,1), (2,2), 0.25)\n",
    "connect_nodes((1,1),(1,2), 0.5)\n",
    "connect_nodes((1,1),(2,1), 1.2)\n",
    "connect_nodes((2,1), (2,2), 0.25)\n",
    "connect_nodes((1,2), (2,2), 0.25)\n",
    "\n",
    "graph = DummyGraphClass(adj_list, verts)\n",
    "\n",
    "path, dist = computeShortestPath(graph, (0,0), (2,2))\n",
    "print(path)"
   ]
  },
  {
   "cell_type": "code",
   "execution_count": null,
   "metadata": {
    "deletable": false,
    "editable": false,
    "nbgrader": {
     "cell_type": "code",
     "checksum": "c023bc16aad14c01f0dd834387fbc575",
     "grade": true,
     "grade_id": "cell-0e0649ad00e501aa",
     "locked": true,
     "points": 15,
     "schema_version": 3,
     "solution": false,
     "task": false
    }
   },
   "outputs": [],
   "source": [
    "class DummyGraphClass:\n",
    "    def __init__(self, adj_list, verts):\n",
    "        self.verts=verts\n",
    "        self.adj_list = adj_list\n",
    "        \n",
    "                \n",
    "    def get_vertex_from_coords(self, i, j):\n",
    "        assert (i,j) in self.verts\n",
    "        return self.verts[(i,j)]\n",
    "    \n",
    "    def get_list_of_neighbors(self, vert):\n",
    "        coords = (vert.x, vert.y)\n",
    "        if coords in self.adj_list:\n",
    "            return self.adj_list[(vert.x, vert.y)]\n",
    "        else:\n",
    "            return []\n",
    "    \n",
    "# Test 1\n",
    "verts = {(i,j): Vertex(i,j) for i in range(3) for j in range(3)}\n",
    "adj_list= {}\n",
    "def connect_nodes(src, dest, weight):\n",
    "    v1 = src\n",
    "    v2 = verts[dest]\n",
    "    if v1 in adj_list:\n",
    "        adj_list[v1].append((v2, weight))\n",
    "    else:\n",
    "        adj_list[v1] = [(v2, weight)]\n",
    "# Let's build a graph\n",
    "connect_nodes((0,0),(0,1),1.0)\n",
    "connect_nodes((0,0),(1,0),0.5)\n",
    "connect_nodes((1,0),(0,1), 0.5)\n",
    "connect_nodes((0,1),(0,0), 0.5)\n",
    "connect_nodes((1,0),(1,1), 0.5)\n",
    "connect_nodes((1,1), (2,2), 0.25)\n",
    "connect_nodes((1,1),(1,2), 0.5)\n",
    "connect_nodes((1,1),(2,1), 1.2)\n",
    "connect_nodes((2,1), (2,2), 0.25)\n",
    "connect_nodes((1,2), (2,2), 0.25)\n",
    "\n",
    "graph = DummyGraphClass(adj_list, verts)\n",
    "\n",
    "path, dist = computeShortestPath(graph, (0,0), (2,2))\n",
    "print(path)\n",
    "\n",
    "assert(dist == 1.25) , ' shortest path distance from (0,0) to (2,2) must be 1.25'\n",
    "assert (path == [(0,0), (1,0), (1,1), (2,2)])\n",
    "\n",
    "for (_,v) in verts.items():\n",
    "    v.reset()\n",
    "\n",
    "graph2 = DummyGraphClass(adj_list, verts)\n",
    "(path2, dist2) = computeShortestPath(graph2, (0,0),(1,2))\n",
    "print(path2)\n",
    "assert dist2 == 1.5, ' shortest path distance from (0,0) to (1,2) must be 1.5'\n",
    "assert path2[0] == (0,0)\n",
    "assert path2[-1] == (1,2)\n",
    "\n",
    "for (_,v) in verts.items():\n",
    "    v.reset()\n",
    "\n",
    "connect_nodes((2,2), (2,1), 0.5)\n",
    "connect_nodes((2,1), (1,1), 1.0)\n",
    "connect_nodes((1,1),(0,1), 0.5)\n",
    "\n",
    "\n",
    "graph3 = DummyGraphClass(adj_list, verts)\n",
    "(path3, dist3) = computeShortestPath(graph3, (2,2),(0,0))\n",
    "print(path3)\n",
    "assert(dist3 == 2.5)\n",
    "assert(path3[0]== (2,2))\n",
    "assert(path3[-1] == (0,0))\n",
    "\n",
    "print('All tests passed: 15 points!')"
   ]
  },
  {
   "cell_type": "code",
   "execution_count": null,
   "metadata": {
    "deletable": false,
    "editable": false,
    "nbgrader": {
     "cell_type": "code",
     "checksum": "f865234b88c14ea881d2e7ad3c86f2eb",
     "grade": false,
     "grade_id": "cell-486df57ccc92cccc",
     "locked": true,
     "schema_version": 3,
     "solution": false,
     "task": false
    }
   },
   "outputs": [],
   "source": [
    "img = cv2.imread('maze.png') # read an image from a file using opencv (cv2) library\n",
    "# you can annotate images \n",
    "cv2.circle(img,(5,220), 3, (255,0,0), -1) # add a circle centered at (5, 220) radius 3, color red (RGB: 255,0,0)\n",
    "cv2.circle(img, (5,5), 3, (0,0,255), -1) # add a circle centered at (5,5) radius 3, color red (RGB: 0,0,255)\n",
    "plt.imshow(img) # show the image on the screen \n",
    "plt.title('Amazing')\n",
    "plt.show()"
   ]
  },
  {
   "cell_type": "code",
   "execution_count": null,
   "metadata": {
    "deletable": false,
    "editable": false,
    "nbgrader": {
     "cell_type": "code",
     "checksum": "ba1070d309c604345748453905ec1584",
     "grade": true,
     "grade_id": "cell-fbc33118b09ce71f",
     "locked": true,
     "points": 10,
     "schema_version": 3,
     "solution": false,
     "task": false
    }
   },
   "outputs": [],
   "source": [
    "img = cv2.imread('maze.png') # read an image from a file using opencv (cv2) library\n",
    "graph = DirectedGraphFromImage(img)\n",
    "p,dist = computeShortestPath(graph, (5,220), (5,5))\n",
    "assert dist <= 78.1, 'Expected shortest path distance must be 78.1'\n",
    "assert p[0] == (5,220)\n",
    "assert p[-1] == (5,5)\n",
    "print('Passed: 10 points!')"
   ]
  },
  {
   "cell_type": "code",
   "execution_count": null,
   "metadata": {
    "deletable": false,
    "editable": false,
    "nbgrader": {
     "cell_type": "code",
     "checksum": "77737b48d63b382425e1e08b9f8f32d4",
     "grade": false,
     "grade_id": "cell-be4c6d2db592a0df",
     "locked": true,
     "schema_version": 3,
     "solution": false,
     "task": false
    }
   },
   "outputs": [],
   "source": [
    "drawPath(img, p, 2)\n",
    "plt.imshow(img) # show the image on the screen \n",
    "plt.title('Amazing')\n",
    "plt.show()\n",
    "cv2.imwrite('maze-solution.png', img)"
   ]
  },
  {
   "cell_type": "code",
   "execution_count": null,
   "metadata": {
    "deletable": false,
    "editable": false,
    "nbgrader": {
     "cell_type": "code",
     "checksum": "1ee79c10a02c1e3b68162bfe6fa18d69",
     "grade": false,
     "grade_id": "cell-483437502a8ff4b5",
     "locked": true,
     "schema_version": 3,
     "solution": false,
     "task": false
    }
   },
   "outputs": [],
   "source": [
    "img = cv2.imread('maze2.JPG') # read an image from a file using opencv (cv2) library\n",
    "cv2.circle(img,(250,470), 10, (255,0,0), -1) # add a circle centered at (600, 70) radius 10, color red (RGB: 255,0,0)\n",
    "cv2.circle(img, (20,100), 10, (255,0,0), -1) # add a circle centered at (790,200) radius 10, color red (RGB: 255,0,0)\n",
    "plt.imshow(img) # show the image on the screen \n",
    "plt.title('Amazing 2')\n",
    "plt.show()"
   ]
  },
  {
   "cell_type": "code",
   "execution_count": null,
   "metadata": {
    "deletable": false,
    "editable": false,
    "nbgrader": {
     "cell_type": "code",
     "checksum": "8f75c642a73a122c3eeaab0aa814f7fa",
     "grade": true,
     "grade_id": "cell-c5eae360e536d157",
     "locked": true,
     "points": 10,
     "schema_version": 3,
     "solution": false,
     "task": false
    }
   },
   "outputs": [],
   "source": [
    "img = cv2.imread('maze2.JPG') # read an image from a file using opencv (cv2) library\n",
    "p, dist = computeShortestPath(DirectedGraphFromImage(img), (250,470), (20,100))\n",
    "assert dist <= 120.0\n",
    "assert p[0] == (250, 470)\n",
    "assert p[-1] == (20,100)\n",
    "print('Passed: 10 points!')"
   ]
  },
  {
   "cell_type": "code",
   "execution_count": null,
   "metadata": {
    "deletable": false,
    "editable": false,
    "nbgrader": {
     "cell_type": "code",
     "checksum": "c0dce0393508202e4a47b9a19bab10d0",
     "grade": false,
     "grade_id": "cell-469c10b0312c3916",
     "locked": true,
     "schema_version": 3,
     "solution": false,
     "task": false
    }
   },
   "outputs": [],
   "source": [
    "drawPath(img,p)\n",
    "plt.imshow(img) # show the image on the screen \n",
    "plt.title('Amazing2')\n",
    "plt.show()"
   ]
  },
  {
   "cell_type": "code",
   "execution_count": null,
   "metadata": {
    "deletable": false,
    "editable": false,
    "nbgrader": {
     "cell_type": "code",
     "checksum": "e645d8c9f393f70b8d483c195f2dfc32",
     "grade": false,
     "grade_id": "cell-53f693d6a4588e0a",
     "locked": true,
     "schema_version": 3,
     "solution": false,
     "task": false
    }
   },
   "outputs": [],
   "source": [
    "img = cv2.imread('maze3.JPG')\n",
    "cv2.circle(img,(70,1750), 15, (255,0,0), -1) # add a circle centered at (600, 70) radius 10, color red (RGB: 255,0,0)\n",
    "cv2.circle(img, (900,500), 15, (0,255,255), -1) # add a circle centered at (790,200) radius 10, color red (RGB: 255,0,0)\n",
    "plt.imshow(img) # show the image on the screen \n",
    "plt.title('Amazing 3')\n",
    "plt.show()"
   ]
  },
  {
   "cell_type": "markdown",
   "metadata": {
    "deletable": false,
    "editable": false,
    "nbgrader": {
     "cell_type": "markdown",
     "checksum": "a541bae3c596e283c1b1a80080d7224e",
     "grade": false,
     "grade_id": "cell-29d0ccf44f19ac05",
     "locked": true,
     "schema_version": 3,
     "solution": false,
     "task": false
    }
   },
   "source": [
    "This will take a while to run: cut and paste the code into a new code cell if you wish to try\n",
    "~~~\n",
    "img = cv2.imread('maze3.JPG') # read an image from a file using opencv (cv2) library\n",
    "p,dist = computeShortestPath(DirectedGraphFromImage(img), (70,1750), (900,500))\n",
    "~~~"
   ]
  },
  {
   "cell_type": "markdown",
   "metadata": {
    "deletable": false,
    "editable": false,
    "nbgrader": {
     "cell_type": "markdown",
     "checksum": "cac275b1d0fdfdb5463b418e490c08a8",
     "grade": false,
     "grade_id": "cell-734207803d2cf185",
     "locked": true,
     "schema_version": 3,
     "solution": false,
     "task": false
    }
   },
   "source": [
    "This will visualize your solution over the complicated maze.\n",
    "~~~\n",
    "drawPath(img,p,10)\n",
    "plt.imshow(img) # show the image on the screen \n",
    "plt.title('Amazing2 Solution')\n",
    "plt.show()\n",
    "~~~"
   ]
  },
  {
   "cell_type": "markdown",
   "metadata": {
    "deletable": false,
    "editable": false,
    "nbgrader": {
     "cell_type": "markdown",
     "checksum": "38513ff23407d7b5b552abb4d1e9a88c",
     "grade": false,
     "grade_id": "cell-b89633419202bb0c",
     "locked": true,
     "schema_version": 3,
     "solution": false,
     "task": false
    }
   },
   "source": [
    "## That's all Folks!"
   ]
  }
 ],
 "metadata": {
  "kernelspec": {
   "display_name": "Python 3",
   "language": "python",
   "name": "python3"
  },
  "language_info": {
   "codemirror_mode": {
    "name": "ipython",
    "version": 3
   },
   "file_extension": ".py",
   "mimetype": "text/x-python",
   "name": "python",
   "nbconvert_exporter": "python",
   "pygments_lexer": "ipython3",
   "version": "3.9.6 (default, Oct 18 2022, 12:41:40) \n[Clang 14.0.0 (clang-1400.0.29.202)]"
  },
  "vscode": {
   "interpreter": {
    "hash": "31f2aee4e71d21fbe5cf8b01ff0e069b9275f58929596ceb00d14d90e3e16cd6"
   }
  }
 },
 "nbformat": 4,
 "nbformat_minor": 2
}
