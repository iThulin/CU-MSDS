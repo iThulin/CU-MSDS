{
 "cells": [
  {
   "cell_type": "markdown",
   "metadata": {
    "deletable": false,
    "editable": false,
    "nbgrader": {
     "cell_type": "markdown",
     "checksum": "4c073681d2f9c3b463d47848a6d9a26b",
     "grade": false,
     "grade_id": "cell-df240126ba94f056",
     "locked": true,
     "schema_version": 3,
     "solution": false,
     "task": false
    }
   },
   "source": [
    "# Final Exam Instructions\n",
    "\n",
    "Instructions are provided as part of a reading along with this final exam. Please ensure that you have read them carefully before attempting this exam."
   ]
  },
  {
   "cell_type": "markdown",
   "metadata": {
    "deletable": false,
    "editable": false,
    "nbgrader": {
     "cell_type": "markdown",
     "checksum": "38da82e0206ee823f8fc8d2fdfd6de63",
     "grade": false,
     "grade_id": "cell-37243ab7fd2a7430",
     "locked": true,
     "schema_version": 3,
     "solution": false,
     "task": false
    }
   },
   "source": [
    "# Problem 1 (15 points)\n",
    "\n",
    "You are given a list of $n$ rods of various lengths as a list `[1[0], l[1],...,l[n-1]]`.\n",
    "\n",
    "Your job is to attach the rods in some order to make a single rod of length $\\texttt{l[0]} + \\texttt{l[1]} + \\cdots + \\texttt{l[n-1]}$.\n",
    "\n",
    "However, if you attach two rods of length $\\ell, m$, you have to pay a cost $\\ell + m$.\n",
    "\n",
    "--- \n",
    "\n",
    "### Example\n",
    "~~~\n",
    "l = [1, 5, 2, 4, 3, 2]\n",
    "~~~\n",
    "Here is one sequence of attachments:\n",
    " 1. Attach rod 1, 5: new rod of length 6 is formed and cost so far = 6. Lengths: `[6, 2, 4, 3, 2]`\n",
    " 2. Attach rod 2, 2: new rod of length 4 is formed and cost so far = 6 + 4 = 10, Lengths: `[6, 4, 4, 3]`.\n",
    " 3. Attach rod 4, 3: new rod of length 7 is formed and cost so far = 10 + 7 = 17, Lengths: `[6,4, 7]`.\n",
    " 4. Attach rod 6, 7: new rod of length 13 is formed and cost so far = 17 + 13 = 30, Lengths = `[13, 4]`.\n",
    " 5. Attach rod 13, 4: new rod of length 17 is formed and cost so far = 30 + 17 = 47. Lengths = `[17]`.\n",
    " \n",
    "Total cost of attachment is 47 if we did it in the manner above.\n",
    "\n",
    "Here is another way to do the same:\n",
    " 1. Attach rods 1, 2: cost so far = 3, Lengths = `[3, 5, 4, 3, 2]`.\n",
    " 2. Attach rods 2, 3: cost so far = 3+5 = 8, Lengths = `[5, 5, 4, 3]`\n",
    " 3. Attach rods: 3, 4: cost so far=  8 + 7 = 15, Lenghts = `[5, 5, 7]`\n",
    " 4. Attach rods: 5, 5: cost so far = 15 + 10 = 25, lengths = `[10, 7]`\n",
    " 5. Attach rods: 10, 17: cost so far = 25 + 17 = 42, lengths = `[17]`.\n",
    " Total Cost = 42.\n",
    " \n",
    "The second approach is more efficient in terms of cost than the first.\n",
    " \n",
    "---\n",
    "\n",
    "\n",
    "\n",
    "Given a list of rod lengths write an algorithm to attach them all into a single rod while minimizing the total cost paid. Your function should simply return the total cost. There is no need to compute the sequence of joins to be made.\n",
    "\n",
    "First write your pseudocode below and figure out the best way to implement it so that you can find the best cost in $\\Theta(n \\log(n))$ steps given $n$ rods. The pseudocode is for your own benefit: we will not be grading your answer.\n",
    "\n",
    "__Hint:__ Think about the similarities between this problem and Huffman codes that you studied."
   ]
  },
  {
   "attachments": {},
   "cell_type": "markdown",
   "metadata": {
    "deletable": false,
    "nbgrader": {
     "cell_type": "markdown",
     "checksum": "0650d0f03b7459c46d52a9dc30252b1c",
     "grade": true,
     "grade_id": "cell-782d0eb755ba0cef",
     "locked": false,
     "points": 0,
     "schema_version": 3,
     "solution": true,
     "task": false
    }
   },
   "source": [
    "We should sort the given list into a min heap to order the elements for future use. Starting with the smallest rod pop the value and add it to the current rod, increasing the cost by the length of the rod. REcursively iterate through the list until you have added every rod element.\n",
    "\n",
    "Creating any new sub-rods will not optimally add values together since each sub-rod will have a section that is counted at least 2 times."
   ]
  },
  {
   "cell_type": "markdown",
   "metadata": {
    "deletable": false,
    "editable": false,
    "nbgrader": {
     "cell_type": "markdown",
     "checksum": "7dfa3644697ebdce5172699c74c8a7f4",
     "grade": false,
     "grade_id": "cell-ef55edea7bb141ae",
     "locked": true,
     "schema_version": 3,
     "solution": false,
     "task": false
    }
   },
   "source": [
    "Implement the function `findOptimalJoiningCost` below. Given a list of rod lengths, it should return the optimal cost. You can use pythons inbuilt heap routines. https://www.geeksforgeeks.org/heap-queue-or-heapq-in-python/"
   ]
  },
  {
   "cell_type": "code",
   "execution_count": 1,
   "metadata": {
    "deletable": false,
    "nbgrader": {
     "cell_type": "code",
     "checksum": "c40d9e8f0d81588ca8d47ba1425cc7df",
     "grade": false,
     "grade_id": "cell-768eab76616bc49e",
     "locked": false,
     "schema_version": 3,
     "solution": true,
     "task": false
    }
   },
   "outputs": [],
   "source": [
    "import heapq\n",
    "\n",
    "def findOptimalJoiningCost(lengths):\n",
    "    # your code here\n",
    "\n",
    "    heapq.heapify(lengths)\n",
    "    cost = 0\n",
    "\n",
    "    while lengths:\n",
    "        rod_1 = heapq.heappop(lengths)\n",
    "        rod_2 = heapq.heappop(lengths)\n",
    "        #print(f\"Popping: {rod_1}, {rod_2}. lengths: {lengths}\")\n",
    "        new_rod = rod_1 + rod_2\n",
    "        cost += new_rod\n",
    "        if len(lengths) == 0:\n",
    "            return cost\n",
    "        heapq.heappush(lengths, new_rod)\n",
    "        #print(f\"Cost: {cost} + New rod: {new_rod} = {cost + new_rod}, {lengths}\")"
   ]
  },
  {
   "cell_type": "code",
   "execution_count": 2,
   "metadata": {
    "deletable": false,
    "editable": false,
    "nbgrader": {
     "cell_type": "code",
     "checksum": "bd62f647221c67ac23acd0a06754af2e",
     "grade": true,
     "grade_id": "cell-ba3fe1722e97faee",
     "locked": true,
     "points": 15,
     "schema_version": 3,
     "solution": false,
     "task": false
    }
   },
   "outputs": [
    {
     "name": "stdout",
     "output_type": "stream",
     "text": [
      "-- Test 1 --\n",
      "42\n",
      "-- Test 2 --\n",
      "65\n",
      "-- Test 3 --\n",
      "173\n",
      "-- Test 4 --\n",
      "652216969\n",
      "-- Test 5 --\n",
      "81780799249\n",
      "All tests passed: 15 points\n"
     ]
    }
   ],
   "source": [
    "print('-- Test 1 --')\n",
    "l1 = [1, 5, 2, 4, 3, 2]\n",
    "c1 = findOptimalJoiningCost(l1)\n",
    "print(c1)\n",
    "assert c1 == 42\n",
    "\n",
    "print('-- Test 2 --')\n",
    "l2 = [4, 7, 6, 3, 4, 2 ]\n",
    "c2 = findOptimalJoiningCost(l2)\n",
    "print(c2)\n",
    "assert c2 == 65\n",
    "\n",
    "print('-- Test 3 --')\n",
    "l3 = [1, 2, 3, 4, 5, 6, 7, 8, 9, 10]\n",
    "c3 = findOptimalJoiningCost(l3)\n",
    "print(c3)\n",
    "assert c3 == 173\n",
    "\n",
    "print('-- Test 4 --')\n",
    "l4 = list(range(10000))\n",
    "c4 = findOptimalJoiningCost(l4)\n",
    "print(c4)\n",
    "assert c4 == 652216969\n",
    "\n",
    "print('-- Test 5 --')\n",
    "l5 = list(range(100000))\n",
    "c5 = findOptimalJoiningCost(l5)\n",
    "print(c5)\n",
    "assert c5 == 81780799249\n",
    "\n",
    "print('All tests passed: 15 points')"
   ]
  },
  {
   "cell_type": "markdown",
   "metadata": {
    "deletable": false,
    "editable": false,
    "nbgrader": {
     "cell_type": "markdown",
     "checksum": "e8ab67ba69d1ccf6808fbf961f3c1b33",
     "grade": false,
     "grade_id": "cell-250c0fcd3fc77ca1",
     "locked": true,
     "schema_version": 3,
     "solution": false,
     "task": false
    }
   },
   "source": [
    "## Problem 2 (15 points)\n",
    "\n",
    "In this problem, you are given a list of numbers `l: [l[0], ..., l[n-1]]`. Your goal is to partition this into two  lists `l1, l2` such that each element `l[i]` belongs to exactly one of `l1, l2` and the difference between the sums of the two lists is minimized:\n",
    " $$\\min\\ | \\text{sum}(\\texttt{l1}) - \\text{sum}(\\texttt{l2}) | $$\n",
    " \n",
    " where $\\text{sum}(\\texttt{l})$ for a list $l$ denotes the sum of the elements in a list.\n",
    "\n",
    "\n",
    "### Example\n",
    "\n",
    "~~~\n",
    "l = [ 1, 5, 7, 8, 4, 6, 15]\n",
    "~~~\n",
    "\n",
    "Partition it as \n",
    "~~~ \n",
    "l1 = [1, 7, 15], l2 = [5, 8, 4, 6] \n",
    "~~~\n",
    "\n",
    "Note that in this case `sum(l1) = sum(l2) = 23`. Thus, we have minimized the absolute difference to 0, which is the best possible.\n",
    "\n",
    "\n",
    "### Dynamic Programming \n",
    "$$\\newcommand\\minAbsDiff{\\textsf{minAbsDiff}}$$\n",
    "Let  $\\minAbsDiff(i, s_1, s_2)$ denote the minimum difference achievable when considering the sublist `[l[i],...,l[n-1]]` with $s_1$ being the sum of elements already committed to list `l1` and $s_2$ being the sum of elements already committed to `l2`.\n",
    "\n",
    "\n",
    "$$\\minAbsDiff(i, s_1, s_2) = \\begin{cases}\n",
    "??? & i \\geq n \\ \\leftarrow\\ \\text{sublist is empty}\\\\\n",
    "\\min(\\minAbsDiff(i+1, ??? , s_2) , \\minAbsDiff(i+1, s_1,??? )) & i \\leq n-1 \\ \\leftarrow\\ \\text{assign l[i] to l1 or l2}\\\\\n",
    "\\end{cases}$$\n",
    "\n",
    "Implement the function `computeBestPartition(l)` that takes in a list `l` and returns the partition as a tuple of lists `(l1, l2)`.\n",
    "\n",
    "\n",
    "* Assume that all elements of the list `l` are positive whole numbers.\n",
    "* Complete and memoize the recurrence above.\n",
    "* Recover the solution \n"
   ]
  },
  {
   "cell_type": "code",
   "execution_count": 127,
   "metadata": {
    "deletable": false,
    "nbgrader": {
     "cell_type": "code",
     "checksum": "ac09319dac76e22788dffb6795067b0c",
     "grade": false,
     "grade_id": "cell-d2ac005873b8d07a",
     "locked": false,
     "schema_version": 3,
     "solution": true,
     "task": false
    }
   },
   "outputs": [],
   "source": [
    "def computeBestPartition(l):\n",
    "    n = len(l)\n",
    "    assert n >= 1\n",
    "    assert all(elt >= 1 and elt== int(elt) for elt in l)\n",
    "    # your code here\n",
    "\n",
    "    list_1 = []\n",
    "    list_2 = []\n",
    "    i = 0\n",
    "\n",
    "    heapq.heapify(l)\n",
    "\n",
    "    return minAbsDiff(l, i, list_1, list_2)\n",
    "    \n",
    "def minAbsDiff(l, i, s1, s2):\n",
    "\n",
    "    sum_1 = sum(s1)\n",
    "    sum_2 = sum(s2)\n",
    "    sum_diff = abs(sum_1 - sum_2)\n",
    "\n",
    "    print(f\"l: {l}, i: {i}, s1: {s1}, s2: {s2}\")\n",
    "    print(f\"s1: {sumList(sum_1)}, s2: {sumList(sum_2)}, diff: {sum_diff}\")\n",
    "\n",
    "    if i >= len(l):\n",
    "        print(\"End Computation\")\n",
    "        return (s1, s2)\n",
    "    \n",
    "    if len(s1) <= 0:\n",
    "        max_l = l.index(max(l))\n",
    "        s1.append(max_l)\n",
    "        #s1.append(heapq.heappop(l))\n",
    "        return minAbsDiff(l, i, s1, s2)\n",
    "    if len(s2) <= 0:\n",
    "        s2.append(heapq.heappop(l))\n",
    "        return minAbsDiff(l, i, s1, s2)\n",
    "    \n",
    "    new_s1 = s1\n",
    "    new_s1.append(heapq.heappop(l))\n",
    "    new_s2 = s2\n",
    "    new_s2.append(heapq.heappop(l))\n",
    "    \n",
    "    print(f\"s1: {s1}, new_s1: {new_s1}, s2: {s2}, new_s2: {new_s2}\")\n",
    "\n",
    "    return min(minAbsDiff(l, i, new_s1, s2), minAbsDiff(l, i, s1, new_s2))\n",
    "\n",
    "def sumList(list):\n",
    "    #print(list)\n",
    "    if list != None:\n",
    "        return 0\n",
    "    return sum(list)\n",
    "    "
   ]
  },
  {
   "cell_type": "code",
   "execution_count": 128,
   "metadata": {
    "deletable": false,
    "editable": false,
    "nbgrader": {
     "cell_type": "code",
     "checksum": "16c022952fc2d8cd80bfc53970d6971f",
     "grade": true,
     "grade_id": "cell-69f932585ba72b94",
     "locked": true,
     "points": 15,
     "schema_version": 3,
     "solution": false,
     "task": false
    }
   },
   "outputs": [
    {
     "name": "stdout",
     "output_type": "stream",
     "text": [
      "-- Test 1 --\n",
      "l: [1, 4, 6, 8, 5, 7, 15], i: 0, s1: [], s2: []\n",
      "s1: 0, s2: 0, diff: 0\n",
      "l: [1, 4, 6, 8, 5, 7, 15], i: 0, s1: [6], s2: []\n",
      "s1: 0, s2: 0, diff: 6\n",
      "l: [4, 5, 6, 8, 15, 7], i: 0, s1: [6], s2: [1]\n",
      "s1: 0, s2: 0, diff: 5\n",
      "s1: [6, 4], new_s1: [6, 4], s2: [1, 5], new_s2: [1, 5]\n",
      "l: [6, 7, 15, 8], i: 0, s1: [6, 4], s2: [1, 5]\n",
      "s1: 0, s2: 0, diff: 4\n",
      "s1: [6, 4, 6], new_s1: [6, 4, 6], s2: [1, 5, 7], new_s2: [1, 5, 7]\n",
      "l: [8, 15], i: 0, s1: [6, 4, 6], s2: [1, 5, 7]\n",
      "s1: 0, s2: 0, diff: 3\n",
      "s1: [6, 4, 6, 8], new_s1: [6, 4, 6, 8], s2: [1, 5, 7, 15], new_s2: [1, 5, 7, 15]\n",
      "l: [], i: 0, s1: [6, 4, 6, 8], s2: [1, 5, 7, 15]\n",
      "s1: 0, s2: 0, diff: 4\n",
      "End Computation\n",
      "l: [], i: 0, s1: [6, 4, 6, 8], s2: [1, 5, 7, 15]\n",
      "s1: 0, s2: 0, diff: 4\n",
      "End Computation\n",
      "l: [], i: 0, s1: [6, 4, 6, 8], s2: [1, 5, 7, 15]\n",
      "s1: 0, s2: 0, diff: 4\n",
      "End Computation\n",
      "l: [], i: 0, s1: [6, 4, 6, 8], s2: [1, 5, 7, 15]\n",
      "s1: 0, s2: 0, diff: 4\n",
      "End Computation\n",
      "[6, 4, 6, 8] [1, 5, 7, 15] 24 28\n"
     ]
    },
    {
     "ename": "AssertionError",
     "evalue": "",
     "output_type": "error",
     "traceback": [
      "\u001b[1;31m---------------------------------------------------------------------------\u001b[0m",
      "\u001b[1;31mAssertionError\u001b[0m                            Traceback (most recent call last)",
      "\u001b[1;32mc:\\Users\\Ian\\Documents\\Development\\CU-MSDS\\Dynamic Programming & Greedy Algorithms\\TakeHomeFinalC3V1.ipynb Cell 9\u001b[0m in \u001b[0;36m1\n\u001b[0;32m      <a href='vscode-notebook-cell:/c%3A/Users/Ian/Documents/Development/CU-MSDS/Dynamic%20Programming%20%26%20Greedy%20Algorithms/TakeHomeFinalC3V1.ipynb#X11sZmlsZQ%3D%3D?line=7'>8</a>\u001b[0m (l1, l2) \u001b[39m=\u001b[39m computeBestPartition(l)\n\u001b[0;32m      <a href='vscode-notebook-cell:/c%3A/Users/Ian/Documents/Development/CU-MSDS/Dynamic%20Programming%20%26%20Greedy%20Algorithms/TakeHomeFinalC3V1.ipynb#X11sZmlsZQ%3D%3D?line=8'>9</a>\u001b[0m \u001b[39mprint\u001b[39m(l1, l2, \u001b[39msum\u001b[39m(l1), \u001b[39msum\u001b[39m(l2))\n\u001b[1;32m---> <a href='vscode-notebook-cell:/c%3A/Users/Ian/Documents/Development/CU-MSDS/Dynamic%20Programming%20%26%20Greedy%20Algorithms/TakeHomeFinalC3V1.ipynb#X11sZmlsZQ%3D%3D?line=9'>10</a>\u001b[0m \u001b[39massert\u001b[39;00m \u001b[39msum\u001b[39m(l1) \u001b[39m==\u001b[39m \u001b[39msum\u001b[39m(l2)\n\u001b[0;32m     <a href='vscode-notebook-cell:/c%3A/Users/Ian/Documents/Development/CU-MSDS/Dynamic%20Programming%20%26%20Greedy%20Algorithms/TakeHomeFinalC3V1.ipynb#X11sZmlsZQ%3D%3D?line=10'>11</a>\u001b[0m checkIfPartition(l, l1, l2)\n\u001b[0;32m     <a href='vscode-notebook-cell:/c%3A/Users/Ian/Documents/Development/CU-MSDS/Dynamic%20Programming%20%26%20Greedy%20Algorithms/TakeHomeFinalC3V1.ipynb#X11sZmlsZQ%3D%3D?line=11'>12</a>\u001b[0m \u001b[39mprint\u001b[39m(\u001b[39m'\u001b[39m\u001b[39mpassed.\u001b[39m\u001b[39m'\u001b[39m)\n",
      "\u001b[1;31mAssertionError\u001b[0m: "
     ]
    }
   ],
   "source": [
    "def checkIfPartition(l, l1, l2):\n",
    "    assert all((elt in l1 and elt not in l2) or (elt in l2 and elt not in l1) for elt in l)\n",
    "    assert all(elt in l for elt in l1)\n",
    "    assert all(elt in l for elt in l2)\n",
    "\n",
    "print('-- Test 1 --')\n",
    "l = [ 1, 5, 7, 8, 4, 6, 15]\n",
    "(l1, l2) = computeBestPartition(l)\n",
    "print(l1, l2, sum(l1), sum(l2))\n",
    "assert sum(l1) == sum(l2)\n",
    "checkIfPartition(l, l1, l2)\n",
    "print('passed.')\n",
    "print('-- Test 2 --')\n",
    "l = [1, 10, 14, 16, 19, 22, 29 ,41,  15, 18]\n",
    "(l1, l2) = computeBestPartition(l)\n",
    "print(l1, l2, sum(l1), sum(l2))\n",
    "assert abs(sum(l1) - sum(l2)) <= 1\n",
    "checkIfPartition(l, l1, l2)\n",
    "print('passed.')\n",
    "print('-- Test 3 --')\n",
    "l = [5, 16, 21, 13, 15, 18, 19, 14, 12, 2, 4]\n",
    "(l1, l2) = computeBestPartition(l)\n",
    "print(l1, l2, sum(l1), sum(l2))\n",
    "assert abs(sum(l1) - sum(l2)) <= 1\n",
    "checkIfPartition(l, l1, l2)\n",
    "print('passed.')\n",
    "print('-- Test 4 --')\n",
    "l = [4, 15, 17, 12, 19, 20, 21,  29, 18, 14,  13, 11, 8, 5, 6]\n",
    "(l1, l2) = computeBestPartition(l)\n",
    "print(l1, l2, sum(l1), sum(l2))\n",
    "assert abs(sum(l1) - sum(l2)) <= 0\n",
    "checkIfPartition(l, l1, l2)\n",
    "print('passed.')\n",
    "print('All tests passed: 15 points!')"
   ]
  },
  {
   "cell_type": "markdown",
   "metadata": {
    "deletable": false,
    "editable": false,
    "nbgrader": {
     "cell_type": "markdown",
     "checksum": "a0b6e38af72a4435c0e1a52bda2716eb",
     "grade": false,
     "grade_id": "cell-54829b5c000d1584",
     "locked": true,
     "schema_version": 3,
     "solution": false,
     "task": false
    }
   },
   "source": [
    "## Problem 3\n",
    "\n",
    "You are giving a binary search tree $T$ and your goal is to _find the longest path in the tree_. \n",
    " - A path can go from a node to its parent or to one of its children.\n",
    " - Each node can occur at most once in a path.\n",
    " - The length of the path is the number of nodes in it.\n",
    " \n",
    "### Example 1\n",
    "\n",
    "Consider the tree below\n",
    "\n",
    "<img src=\"tree1.png\" width=\"25%\">\n",
    "\n",
    "The longest path is shown in red. It has 7 nodes. Note that the longest path is not unique in this case. There is another path of length 7 that passes through the tree's root.\n"
   ]
  },
  {
   "cell_type": "markdown",
   "metadata": {
    "deletable": false,
    "editable": false,
    "nbgrader": {
     "cell_type": "markdown",
     "checksum": "43b8c8d9e721ad5c896db1408e532529",
     "grade": false,
     "grade_id": "cell-e7808c68a813ed14",
     "locked": true,
     "schema_version": 3,
     "solution": false,
     "task": false
    }
   },
   "source": [
    "### Example 2\n",
    "\n",
    "Consider the tree below\n",
    "\n",
    "<img src=\"tree2.png\" width=\"15%\">\n",
    "\n",
    "The longest path is shown in red. It has length 7.\n",
    "\n",
    "---\n",
    "\n",
    "Given a tree represented by the `TreeNode` class instance below, complete the function `getLongestPath` that returns the length of the longest path. For your convenience, we have a field called `depth` at each node of the tree which represents the length of the longest path from that node down to a leaf."
   ]
  },
  {
   "cell_type": "markdown",
   "metadata": {
    "deletable": false,
    "editable": false,
    "nbgrader": {
     "cell_type": "markdown",
     "checksum": "860125744410e6bc270bf43a0563967b",
     "grade": false,
     "grade_id": "cell-acfc2c982766d283",
     "locked": true,
     "schema_version": 3,
     "solution": false,
     "task": false
    }
   },
   "source": [
    "## Hint\n",
    "\n",
    "Use divide and conquer by  considering\n",
    " - longest path length in the left subtree\n",
    " - longest path length in the right subtree\n",
    " - longest path that passes through the current root node.\n",
    "\n",
    "The diagram below should help.\n",
    "\n",
    "<img src=\"fig1.png\" width=\"40%\">\n",
    "\n",
    "The longest path can be entirely in the left subrtree, or right subtree, or in the third case, it can pass through the current root node. In the third case, we can use the `depth` information for left and right subtrees to figure out the length of the longest path.\n"
   ]
  },
  {
   "cell_type": "code",
   "execution_count": null,
   "metadata": {
    "deletable": false,
    "editable": false,
    "nbgrader": {
     "cell_type": "code",
     "checksum": "357278b0e3d39960bd273e1cffd3b2d6",
     "grade": false,
     "grade_id": "cell-5ca5b42dc4651ad7",
     "locked": true,
     "schema_version": 3,
     "solution": false,
     "task": false
    }
   },
   "outputs": [],
   "source": [
    "class TreeNode:\n",
    "    def __init__(self, key, parent_node=None):\n",
    "        # this is the key at the current node\n",
    "        self.key = key\n",
    "        # store parent node information\n",
    "        self.parent = parent_node\n",
    "        # left and right children\n",
    "        self.left = None\n",
    "        self.right = None\n",
    "        # depth\n",
    "        self.depth = 1\n",
    "    \n",
    "    def is_root(self):\n",
    "        return parent_node == None\n",
    "    \n",
    "    def insert(self, new_key):\n",
    "        key = self.key\n",
    "        if new_key == key:\n",
    "            print(f'Already inserted key {key}. Ignoring')\n",
    "        elif new_key < key:\n",
    "            if self.left == None:\n",
    "                new_node = TreeNode(new_key, self)\n",
    "                self.left = new_node\n",
    "            else:\n",
    "                self.left.insert(new_key)\n",
    "        else: \n",
    "            assert new_key > key\n",
    "            if self.right == None:\n",
    "                new_node = TreeNode(new_key, self)\n",
    "                self.right = new_node\n",
    "            else: \n",
    "                self.right.insert(new_key)\n",
    "        #update the depth\n",
    "        left_depth = self.left.depth if self.left != None else 0\n",
    "        right_depth = self.right.depth if self.right != None else 0\n",
    "        self.depth = max(left_depth, right_depth) + 1"
   ]
  },
  {
   "cell_type": "code",
   "execution_count": null,
   "metadata": {
    "deletable": false,
    "nbgrader": {
     "cell_type": "code",
     "checksum": "74702481b98bb722cd293312ab3dd846",
     "grade": false,
     "grade_id": "cell-1ff2c4055309fd41",
     "locked": false,
     "schema_version": 3,
     "solution": true,
     "task": false
    }
   },
   "outputs": [],
   "source": [
    "def getLongestPathLength(rootNode):\n",
    "    # rootNode is an instance of the TreeNode class\n",
    "    # The function must return the longest path length\n",
    "    # your code here\n",
    "    \n",
    "    "
   ]
  },
  {
   "cell_type": "code",
   "execution_count": null,
   "metadata": {
    "deletable": false,
    "editable": false,
    "nbgrader": {
     "cell_type": "code",
     "checksum": "a00ef0065f4b3b1e443645375489e32c",
     "grade": true,
     "grade_id": "cell-26d3d7802596d455",
     "locked": true,
     "points": 15,
     "schema_version": 3,
     "solution": false,
     "task": false
    }
   },
   "outputs": [],
   "source": [
    "def make_tree(l):\n",
    "    assert len(l) >= 1\n",
    "    rootNode = TreeNode(l[0])\n",
    "    for elt in l[1:]:\n",
    "        rootNode.insert(elt)\n",
    "    return rootNode\n",
    "\n",
    "print('-- Test 1 --')\n",
    "l = [55, 40, 70, 20, 47, 10, 43, 52, 50, 51]\n",
    "r = make_tree(l)\n",
    "path_len = getLongestPathLength(r)\n",
    "print(path_len)\n",
    "assert path_len == 7\n",
    "print('passed')\n",
    "print('-- Test 2 --')\n",
    "l = [55, 40, 70, 47,  43, 52, 50, 51]\n",
    "r = make_tree(l)\n",
    "path_len = getLongestPathLength(r)\n",
    "print(path_len)\n",
    "assert path_len == 7\n",
    "print('-- Test 3 --')\n",
    "l = [26, 17, 41, 14, 21, 30, 47, 10, 16, 19, 23, 28, 38, 7, 12, 15, 20, 35, 39, 3]\n",
    "r = make_tree(l)\n",
    "path_len = getLongestPathLength(r)\n",
    "print(path_len)\n",
    "assert path_len == 10\n",
    "print('-- Test 4--')\n",
    "l = [7, 4, 18, 3, 6, 11, 19, 2, 9, 14, 22, 12, 17, 20, 21]\n",
    "r = make_tree(l)\n",
    "path_len = getLongestPathLength(r)\n",
    "print(path_len)\n",
    "assert path_len == 9\n",
    "print('All Tests Passed: 15 points!')"
   ]
  },
  {
   "cell_type": "markdown",
   "metadata": {
    "deletable": false,
    "editable": false,
    "nbgrader": {
     "cell_type": "markdown",
     "checksum": "171c887d2549a5dfdf2d521ff869f6ab",
     "grade": false,
     "grade_id": "cell-192515fb900db835",
     "locked": true,
     "schema_version": 3,
     "solution": false,
     "task": false
    }
   },
   "source": [
    "## That's all folks"
   ]
  }
 ],
 "metadata": {
  "kernelspec": {
   "display_name": "Python 3",
   "language": "python",
   "name": "python3"
  },
  "language_info": {
   "codemirror_mode": {
    "name": "ipython",
    "version": 3
   },
   "file_extension": ".py",
   "mimetype": "text/x-python",
   "name": "python",
   "nbconvert_exporter": "python",
   "pygments_lexer": "ipython3",
   "version": "3.9.13"
  }
 },
 "nbformat": 4,
 "nbformat_minor": 5
}
